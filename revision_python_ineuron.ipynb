{
  "nbformat": 4,
  "nbformat_minor": 0,
  "metadata": {
    "colab": {
      "provenance": [],
      "authorship_tag": "ABX9TyPmJnwK6VvlfyfktNU/tk1a",
      "include_colab_link": true
    },
    "kernelspec": {
      "name": "python3",
      "display_name": "Python 3"
    },
    "language_info": {
      "name": "python"
    }
  },
  "cells": [
    {
      "cell_type": "markdown",
      "metadata": {
        "id": "view-in-github",
        "colab_type": "text"
      },
      "source": [
        "<a href=\"https://colab.research.google.com/github/saras1999/frontend/blob/main/revision_python_ineuron.ipynb\" target=\"_parent\"><img src=\"https://colab.research.google.com/assets/colab-badge.svg\" alt=\"Open In Colab\"/></a>"
      ]
    },
    {
      "cell_type": "code",
      "execution_count": 1,
      "metadata": {
        "colab": {
          "base_uri": "https://localhost:8080/"
        },
        "id": "WtupLCcJize-",
        "outputId": "541e1f80-3097-4f1c-d1bf-b5f8dee1e249"
      },
      "outputs": [
        {
          "output_type": "stream",
          "name": "stdout",
          "text": [
            "Hello Python\n"
          ]
        }
      ],
      "source": [
        "print(\"Hello Python\")"
      ]
    },
    {
      "cell_type": "markdown",
      "source": [],
      "metadata": {
        "id": "tA53YawUmbvO"
      }
    },
    {
      "cell_type": "code",
      "source": [],
      "metadata": {
        "id": "HTjM3nl8mZZU"
      },
      "execution_count": null,
      "outputs": []
    },
    {
      "cell_type": "code",
      "source": [
        "print(\"the nameof the company is Freshmart\")"
      ],
      "metadata": {
        "colab": {
          "base_uri": "https://localhost:8080/"
        },
        "id": "Ze71Sq0Ti9wO",
        "outputId": "768be6c1-4fef-46b8-a164-8ebae1aa96b3"
      },
      "execution_count": 2,
      "outputs": [
        {
          "output_type": "stream",
          "name": "stdout",
          "text": [
            "the nameof the company is Freshmart\n"
          ]
        }
      ]
    },
    {
      "cell_type": "code",
      "source": [
        "print(\"the year the company wasestablished is\", 1983)"
      ],
      "metadata": {
        "colab": {
          "base_uri": "https://localhost:8080/"
        },
        "id": "AYH1P7LSl3Xx",
        "outputId": "0394bfd7-8533-4227-dbf0-bef50f343120"
      },
      "execution_count": 3,
      "outputs": [
        {
          "output_type": "stream",
          "name": "stdout",
          "text": [
            "the year the company wasestablished is 1983\n"
          ]
        }
      ]
    },
    {
      "cell_type": "code",
      "source": [
        "print('totalturnover of the company this year in million $ is 1..5')"
      ],
      "metadata": {
        "colab": {
          "base_uri": "https://localhost:8080/"
        },
        "id": "KKFROO_gmLkm",
        "outputId": "c9603c6d-bdb3-48b3-c03a-8c2fda2c8bc9"
      },
      "execution_count": 4,
      "outputs": [
        {
          "output_type": "stream",
          "name": "stdout",
          "text": [
            "totalturnover of the company this year in million $ is 1..5\n"
          ]
        }
      ]
    },
    {
      "cell_type": "code",
      "source": [
        "print(\"my name is saraswathi , 3 years experience\")"
      ],
      "metadata": {
        "colab": {
          "base_uri": "https://localhost:8080/"
        },
        "id": "Of5ArxVomsiG",
        "outputId": "14b5924c-e306-40a1-80ab-1758408e2899"
      },
      "execution_count": 5,
      "outputs": [
        {
          "output_type": "stream",
          "name": "stdout",
          "text": [
            "my name is saraswathi , 3 years experience\n"
          ]
        }
      ]
    },
    {
      "cell_type": "markdown",
      "source": [
        "variable\n"
      ],
      "metadata": {
        "id": "0iiCLS1-nKAn"
      }
    },
    {
      "cell_type": "code",
      "source": [
        "x=10\n",
        "y=20000\n",
        "z=x*y\n",
        "print(z)\n",
        "z"
      ],
      "metadata": {
        "colab": {
          "base_uri": "https://localhost:8080/"
        },
        "id": "KbQqiQzam6FH",
        "outputId": "fda6b4c6-ab8b-4e3a-f982-2e2595d941da"
      },
      "execution_count": 7,
      "outputs": [
        {
          "output_type": "stream",
          "name": "stdout",
          "text": [
            "200000\n"
          ]
        },
        {
          "output_type": "execute_result",
          "data": {
            "text/plain": [
              "200000"
            ]
          },
          "metadata": {},
          "execution_count": 7
        }
      ]
    },
    {
      "cell_type": "code",
      "source": [
        "company_name=\"Fresh Mart\"\n",
        "print(\"The name of the company is\", company_name)"
      ],
      "metadata": {
        "colab": {
          "base_uri": "https://localhost:8080/"
        },
        "id": "jdcjCffGnYqr",
        "outputId": "223276b0-fb06-413e-c449-4b7112f3503c"
      },
      "execution_count": 9,
      "outputs": [
        {
          "output_type": "stream",
          "name": "stdout",
          "text": [
            "The name of the company is Fresh Mart\n"
          ]
        }
      ]
    },
    {
      "cell_type": "markdown",
      "source": [
        "a variable name start with a letter or underscore\n",
        "variable name cannot start with a number\n",
        "a variable name are case sensitive\n",
        "a variable name can only contain alpha-numeric characters and underscores(A-z, 0-9 and _)"
      ],
      "metadata": {
        "id": "kP7jLSXun9O_"
      }
    },
    {
      "cell_type": "code",
      "source": [
        "year_started=1983\n",
        "print(\"the year the cpmpany estanlished is\", year_started)"
      ],
      "metadata": {
        "colab": {
          "base_uri": "https://localhost:8080/"
        },
        "id": "HZ2fx-o6nwct",
        "outputId": "2bae2321-6d06-4b25-bddd-250eb5ee6387"
      },
      "execution_count": 10,
      "outputs": [
        {
          "output_type": "stream",
          "name": "stdout",
          "text": [
            "the year the cpmpany estanlished is 1983\n"
          ]
        }
      ]
    },
    {
      "cell_type": "code",
      "source": [
        "turnover=1.5\n",
        "Turnover='1.5 Million'\n",
        "year=2022\n",
        "print(\"The\", company_name, \"turnover is\", Turnover,\"in\",year)"
      ],
      "metadata": {
        "colab": {
          "base_uri": "https://localhost:8080/"
        },
        "id": "rE9Ax-espNBV",
        "outputId": "6d986053-6482-4d22-ff9a-faed5a3368ad"
      },
      "execution_count": 11,
      "outputs": [
        {
          "output_type": "stream",
          "name": "stdout",
          "text": [
            "The Fresh Mart turnover is 1.5 Million in 2022\n"
          ]
        }
      ]
    },
    {
      "cell_type": "markdown",
      "source": [
        "datatypes"
      ],
      "metadata": {
        "id": "IX755QOAp_az"
      }
    },
    {
      "cell_type": "code",
      "source": [
        "print(\"the type of variables incompany name is\", type(company_name))"
      ],
      "metadata": {
        "colab": {
          "base_uri": "https://localhost:8080/"
        },
        "id": "qImsPikYpyTH",
        "outputId": "28233314-bb4b-452f-f380-1957e706d4dc"
      },
      "execution_count": 12,
      "outputs": [
        {
          "output_type": "stream",
          "name": "stdout",
          "text": [
            "the type of variables incompany name is <class 'str'>\n"
          ]
        }
      ]
    },
    {
      "cell_type": "markdown",
      "source": [
        "we can also check the type of variables using type() functio"
      ],
      "metadata": {
        "id": "vEO53QSgqW6M"
      }
    },
    {
      "cell_type": "markdown",
      "source": [
        "data types are classification of data items, it represents the kind of value that tells what operations can be performed on a particular data\n",
        "integer float"
      ],
      "metadata": {
        "id": "JY6U1hqAqiu8"
      }
    },
    {
      "cell_type": "code",
      "source": [
        "print(\"the year the company was estanlish is\", type(year_started))"
      ],
      "metadata": {
        "colab": {
          "base_uri": "https://localhost:8080/"
        },
        "id": "nsV9Y5kEqLC6",
        "outputId": "f573bed3-5956-4926-b6cc-eeb0a177aece"
      },
      "execution_count": 14,
      "outputs": [
        {
          "output_type": "stream",
          "name": "stdout",
          "text": [
            "the year the company was estanlish is <class 'int'>\n"
          ]
        }
      ]
    },
    {
      "cell_type": "code",
      "source": [
        "total_turnover=1.5\n",
        "type(total_turnover)\n",
        "year = 1983\n",
        "type(year)"
      ],
      "metadata": {
        "colab": {
          "base_uri": "https://localhost:8080/"
        },
        "id": "4PDAqGY7rVoM",
        "outputId": "687a482f-29a5-4e04-8931-71000f5269fa"
      },
      "execution_count": 20,
      "outputs": [
        {
          "output_type": "execute_result",
          "data": {
            "text/plain": [
              "int"
            ]
          },
          "metadata": {},
          "execution_count": 20
        }
      ]
    },
    {
      "cell_type": "code",
      "source": [
        "type(total_turnover)"
      ],
      "metadata": {
        "colab": {
          "base_uri": "https://localhost:8080/"
        },
        "id": "fzwraUnZsFqH",
        "outputId": "fba1e579-ca5e-4b29-9ba6-97794e545dd0"
      },
      "execution_count": 18,
      "outputs": [
        {
          "output_type": "execute_result",
          "data": {
            "text/plain": [
              "float"
            ]
          },
          "metadata": {},
          "execution_count": 18
        }
      ]
    },
    {
      "cell_type": "code",
      "source": [
        "stock1=0.2\n",
        "print('price of stock1 in million $ is', stock1)"
      ],
      "metadata": {
        "colab": {
          "base_uri": "https://localhost:8080/"
        },
        "id": "yuHJ4WCXstcS",
        "outputId": "2d7f65a6-7c54-472d-bb34-079a3ae43e28"
      },
      "execution_count": 22,
      "outputs": [
        {
          "output_type": "stream",
          "name": "stdout",
          "text": [
            "price of stock1 in million $ is 0.2\n"
          ]
        }
      ]
    },
    {
      "cell_type": "code",
      "source": [
        "price_updated = stock1 + stock1\n",
        "print(\"price of stock2 in million $ is\", price_updated)"
      ],
      "metadata": {
        "colab": {
          "base_uri": "https://localhost:8080/"
        },
        "id": "P99o0Fllt46R",
        "outputId": "a8be6c63-5d24-43f3-a3f1-fcc66b82d437"
      },
      "execution_count": 23,
      "outputs": [
        {
          "output_type": "stream",
          "name": "stdout",
          "text": [
            "price of stock2 in million $ is 0.4\n"
          ]
        }
      ]
    },
    {
      "cell_type": "code",
      "source": [
        "price_final=stock1*10\n",
        "print(price_final)"
      ],
      "metadata": {
        "colab": {
          "base_uri": "https://localhost:8080/"
        },
        "id": "KxjZjMscuYLY",
        "outputId": "58228bed-698d-4db9-8ce4-073bdd7cd9cd"
      },
      "execution_count": 24,
      "outputs": [
        {
          "output_type": "stream",
          "name": "stdout",
          "text": [
            "2.0\n"
          ]
        }
      ]
    },
    {
      "cell_type": "code",
      "source": [
        "downtime_hours=90\n",
        "total_time=2500\n",
        "average_downtime=downtime_hours/total_time\n",
        "print(\"the avetage downtime hours for last month is\", average_downtime)"
      ],
      "metadata": {
        "colab": {
          "base_uri": "https://localhost:8080/"
        },
        "id": "IuEHLKi7vnfy",
        "outputId": "a70af23d-8e4e-442b-d5a0-f91ea76bc650"
      },
      "execution_count": 25,
      "outputs": [
        {
          "output_type": "stream",
          "name": "stdout",
          "text": [
            "the avetage downtime hours for last month is 0.036\n"
          ]
        }
      ]
    },
    {
      "cell_type": "code",
      "source": [
        "x=19992\n",
        "type(x)"
      ],
      "metadata": {
        "colab": {
          "base_uri": "https://localhost:8080/"
        },
        "id": "bnX6B3IxwYdL",
        "outputId": "703dfb06-8354-428b-dee7-aa5b84a37485"
      },
      "execution_count": 26,
      "outputs": [
        {
          "output_type": "execute_result",
          "data": {
            "text/plain": [
              "int"
            ]
          },
          "metadata": {},
          "execution_count": 26
        }
      ]
    },
    {
      "cell_type": "markdown",
      "source": [],
      "metadata": {
        "id": "IqXTifEYwV7i"
      }
    },
    {
      "cell_type": "code",
      "source": [
        "safety_incidents=34\n",
        "total_employees=1968\n",
        "safety_per_employee= safety_incidents/total_employees\n",
        "safety_per_employee"
      ],
      "metadata": {
        "colab": {
          "base_uri": "https://localhost:8080/"
        },
        "id": "ZeMyaHMFwVO2",
        "outputId": "446a04a7-1251-4879-b04f-000cff00d98b"
      },
      "execution_count": 29,
      "outputs": [
        {
          "output_type": "execute_result",
          "data": {
            "text/plain": [
              "0.017276422764227643"
            ]
          },
          "metadata": {},
          "execution_count": 29
        }
      ]
    },
    {
      "cell_type": "markdown",
      "source": [
        "data structures the way to store data ,collection of data, sequence of data"
      ],
      "metadata": {
        "id": "LB8spjk52wiT"
      }
    },
    {
      "cell_type": "markdown",
      "source": [
        "list\n"
      ],
      "metadata": {
        "id": "twCN9kg44Fwu"
      }
    },
    {
      "cell_type": "code",
      "source": [
        "stocks=[\"tv\", \"Laptop\", \"Mobile phones\", \"Table fans\"]\n",
        "print(\"stock:\", stocks)"
      ],
      "metadata": {
        "colab": {
          "base_uri": "https://localhost:8080/"
        },
        "id": "_JunZlgPwLIp",
        "outputId": "11215950-6376-476b-cfdc-fe2a0303126b"
      },
      "execution_count": 30,
      "outputs": [
        {
          "output_type": "stream",
          "name": "stdout",
          "text": [
            "stock: ['tv', 'Laptop', 'Mobile phones', 'Table fans']\n"
          ]
        }
      ]
    },
    {
      "cell_type": "markdown",
      "source": [
        "a list in ython is an ordered group of itms and these list elements dont have to be of the same type. python list are mutable objects that can change their values"
      ],
      "metadata": {
        "id": "td77F6LC4464"
      }
    },
    {
      "cell_type": "markdown",
      "source": [
        "alist contains"
      ],
      "metadata": {
        "id": "j60Yj9Pk5WQA"
      }
    },
    {
      "cell_type": "markdown",
      "source": [],
      "metadata": {
        "id": "NKDOjND15WOC"
      }
    },
    {
      "cell_type": "markdown",
      "source": [],
      "metadata": {
        "id": "vttErHz65WLO"
      }
    },
    {
      "cell_type": "markdown",
      "source": [
        "**bold text**"
      ],
      "metadata": {
        "id": "vmo9Mb2I5WJr"
      }
    },
    {
      "cell_type": "markdown",
      "source": [
        "create a list that contains the values for sales that happened to date ."
      ],
      "metadata": {
        "id": "2rVXm1Sk5WH-"
      }
    },
    {
      "cell_type": "code",
      "source": [
        "x=[10, 'nitin', 'sam', 78.90, 'try python', 'table fans']\n",
        "print('inventory:',x)"
      ],
      "metadata": {
        "colab": {
          "base_uri": "https://localhost:8080/"
        },
        "id": "VI4VPqwz4pU9",
        "outputId": "beb1c927-53c2-4273-d0d3-e05b7651f8c5"
      },
      "execution_count": 32,
      "outputs": [
        {
          "output_type": "stream",
          "name": "stdout",
          "text": [
            "inventory: [10, 'nitin', 'sam', 78.9, 'try python', 'table fans']\n"
          ]
        }
      ]
    },
    {
      "cell_type": "code",
      "source": [
        "sales=[200,652,412,123]"
      ],
      "metadata": {
        "id": "shWXu3i451v2"
      },
      "execution_count": 33,
      "outputs": []
    },
    {
      "cell_type": "code",
      "source": [
        "print('stocks:',stocks)"
      ],
      "metadata": {
        "colab": {
          "base_uri": "https://localhost:8080/"
        },
        "id": "D7lSglrH6sZr",
        "outputId": "5e6f9b27-32fe-46a2-d5c3-bf7c897a8cef"
      },
      "execution_count": 34,
      "outputs": [
        {
          "output_type": "stream",
          "name": "stdout",
          "text": [
            "stocks: ['tv', 'Laptop', 'Mobile phones', 'Table fans']\n"
          ]
        }
      ]
    },
    {
      "cell_type": "code",
      "source": [
        "print('sales:', sales)"
      ],
      "metadata": {
        "colab": {
          "base_uri": "https://localhost:8080/"
        },
        "id": "SCfXD6t16-Eq",
        "outputId": "6fc89ca0-18b1-4a28-9620-ef2c14143483"
      },
      "execution_count": 35,
      "outputs": [
        {
          "output_type": "stream",
          "name": "stdout",
          "text": [
            "sales: [200, 652, 412, 123]\n"
          ]
        }
      ]
    },
    {
      "cell_type": "code",
      "source": [
        "print(sales,stocks)"
      ],
      "metadata": {
        "colab": {
          "base_uri": "https://localhost:8080/"
        },
        "id": "loRS8wIh7C1_",
        "outputId": "6f962e2b-c005-44eb-8f23-900877c2f702"
      },
      "execution_count": 36,
      "outputs": [
        {
          "output_type": "stream",
          "name": "stdout",
          "text": [
            "[200, 652, 412, 123] ['tv', 'Laptop', 'Mobile phones', 'Table fans']\n"
          ]
        }
      ]
    },
    {
      "cell_type": "code",
      "source": [
        "stocks.remove(\"Table fans\")"
      ],
      "metadata": {
        "id": "hN0E8XRJ73pa"
      },
      "execution_count": 37,
      "outputs": []
    },
    {
      "cell_type": "code",
      "source": [
        "print(\"stocks:\",stocks)"
      ],
      "metadata": {
        "colab": {
          "base_uri": "https://localhost:8080/"
        },
        "id": "Rc4-fo7x8uje",
        "outputId": "b34de5fd-5848-45f8-9a55-f27b5052873d"
      },
      "execution_count": 38,
      "outputs": [
        {
          "output_type": "stream",
          "name": "stdout",
          "text": [
            "stocks: ['tv', 'Laptop', 'Mobile phones']\n"
          ]
        }
      ]
    },
    {
      "cell_type": "code",
      "source": [
        "stocks.append(\"Hybrid Fans\")"
      ],
      "metadata": {
        "id": "Y7a-I_478yVy"
      },
      "execution_count": 39,
      "outputs": []
    },
    {
      "cell_type": "code",
      "source": [
        "print(\"stocks:\",stocks)"
      ],
      "metadata": {
        "colab": {
          "base_uri": "https://localhost:8080/"
        },
        "id": "Z_Vu1mf69EZs",
        "outputId": "37b88a2d-62c2-40f5-d153-858de42fcf5f"
      },
      "execution_count": 40,
      "outputs": [
        {
          "output_type": "stream",
          "name": "stdout",
          "text": [
            "stocks: ['tv', 'Laptop', 'Mobile phones', 'Hybrid Fans']\n"
          ]
        }
      ]
    },
    {
      "cell_type": "code",
      "source": [
        "production=[16,10,500,12]\n",
        "print(\"production:\",production)"
      ],
      "metadata": {
        "colab": {
          "base_uri": "https://localhost:8080/"
        },
        "id": "9oT7307f9Hmc",
        "outputId": "5268503e-765f-4e8d-a5a9-dfb5235c05ea"
      },
      "execution_count": 41,
      "outputs": [
        {
          "output_type": "stream",
          "name": "stdout",
          "text": [
            "production: [16, 10, 500, 12]\n"
          ]
        }
      ]
    },
    {
      "cell_type": "code",
      "source": [
        "production[3]\n",
        "print(\"mileage:\",production)"
      ],
      "metadata": {
        "colab": {
          "base_uri": "https://localhost:8080/"
        },
        "id": "xsroax1D95J8",
        "outputId": "1abd9963-f970-42ee-ec98-585821bf6edf"
      },
      "execution_count": 42,
      "outputs": [
        {
          "output_type": "stream",
          "name": "stdout",
          "text": [
            "mileage: [16, 10, 500, 12]\n"
          ]
        }
      ]
    },
    {
      "cell_type": "code",
      "source": [
        "production.remove(12)"
      ],
      "metadata": {
        "id": "k487iMNP-CbK"
      },
      "execution_count": 43,
      "outputs": []
    },
    {
      "cell_type": "code",
      "source": [
        "production.append(9)"
      ],
      "metadata": {
        "id": "lYsXgM5q-PI-"
      },
      "execution_count": 44,
      "outputs": []
    },
    {
      "cell_type": "code",
      "source": [
        "production"
      ],
      "metadata": {
        "colab": {
          "base_uri": "https://localhost:8080/"
        },
        "id": "aGx5Cuy2-Sy4",
        "outputId": "baa99a4c-b00b-4118-d7e4-9daebffba149"
      },
      "execution_count": 45,
      "outputs": [
        {
          "output_type": "execute_result",
          "data": {
            "text/plain": [
              "[16, 10, 500, 9]"
            ]
          },
          "metadata": {},
          "execution_count": 45
        }
      ]
    },
    {
      "cell_type": "code",
      "source": [
        "production[3]=12\n",
        "print(\"mileage:\",production)"
      ],
      "metadata": {
        "colab": {
          "base_uri": "https://localhost:8080/"
        },
        "id": "YoJEs61p-VG2",
        "outputId": "71c26be5-d754-45b9-c9ba-c83940120fa7"
      },
      "execution_count": 46,
      "outputs": [
        {
          "output_type": "stream",
          "name": "stdout",
          "text": [
            "mileage: [16, 10, 500, 12]\n"
          ]
        }
      ]
    },
    {
      "cell_type": "code",
      "source": [
        "stocks.remove(\"fridge\")"
      ],
      "metadata": {
        "colab": {
          "base_uri": "https://localhost:8080/",
          "height": 166
        },
        "id": "ZYSHWbd_-li9",
        "outputId": "78fd178a-c09e-4866-9e72-db5ba8c39afe"
      },
      "execution_count": 48,
      "outputs": [
        {
          "output_type": "error",
          "ename": "ValueError",
          "evalue": "ignored",
          "traceback": [
            "\u001b[0;31m---------------------------------------------------------------------------\u001b[0m",
            "\u001b[0;31mValueError\u001b[0m                                Traceback (most recent call last)",
            "\u001b[0;32m<ipython-input-48-375bf2c7f2dc>\u001b[0m in \u001b[0;36m<cell line: 1>\u001b[0;34m()\u001b[0m\n\u001b[0;32m----> 1\u001b[0;31m \u001b[0mstocks\u001b[0m\u001b[0;34m.\u001b[0m\u001b[0mremove\u001b[0m\u001b[0;34m(\u001b[0m\u001b[0;34m\"fridge\"\u001b[0m\u001b[0;34m)\u001b[0m\u001b[0;34m\u001b[0m\u001b[0;34m\u001b[0m\u001b[0m\n\u001b[0m",
            "\u001b[0;31mValueError\u001b[0m: list.remove(x): x not in list"
          ]
        }
      ]
    },
    {
      "cell_type": "code",
      "source": [
        "stock=[\"rv\",\"washing machine\", \"fridge\"]\n",
        "print(stock)"
      ],
      "metadata": {
        "colab": {
          "base_uri": "https://localhost:8080/"
        },
        "id": "Mj7v8PXk_PBs",
        "outputId": "e734a385-81bb-44e7-99e2-ffee80767ac7"
      },
      "execution_count": 49,
      "outputs": [
        {
          "output_type": "stream",
          "name": "stdout",
          "text": [
            "['rv', 'washing machine', 'fridge']\n"
          ]
        }
      ]
    },
    {
      "cell_type": "code",
      "source": [
        "stock.remove(\"fridge\")"
      ],
      "metadata": {
        "id": "YVzy1GJ8_gBC"
      },
      "execution_count": 50,
      "outputs": []
    },
    {
      "cell_type": "code",
      "source": [
        "print(stock)"
      ],
      "metadata": {
        "colab": {
          "base_uri": "https://localhost:8080/"
        },
        "id": "m_I6NDjr_lTq",
        "outputId": "b9f248ed-f630-4788-febd-d2da7c3f12f4"
      },
      "execution_count": 51,
      "outputs": [
        {
          "output_type": "stream",
          "name": "stdout",
          "text": [
            "['rv', 'washing machine']\n"
          ]
        }
      ]
    },
    {
      "cell_type": "code",
      "source": [
        "stocks[0:2]"
      ],
      "metadata": {
        "colab": {
          "base_uri": "https://localhost:8080/"
        },
        "id": "JK1q9lr7_nQ3",
        "outputId": "c60c131f-1a98-4838-eb11-a4f2929a14f8"
      },
      "execution_count": 52,
      "outputs": [
        {
          "output_type": "execute_result",
          "data": {
            "text/plain": [
              "['tv', 'Laptop']"
            ]
          },
          "metadata": {},
          "execution_count": 52
        }
      ]
    },
    {
      "cell_type": "code",
      "source": [
        "stocks"
      ],
      "metadata": {
        "colab": {
          "base_uri": "https://localhost:8080/"
        },
        "id": "d4X698ArAACI",
        "outputId": "1ccb0b0e-c164-4449-b15b-ac2c15256fcc"
      },
      "execution_count": 53,
      "outputs": [
        {
          "output_type": "execute_result",
          "data": {
            "text/plain": [
              "['tv', 'Laptop', 'Mobile phones', 'Hybrid Fans']"
            ]
          },
          "metadata": {},
          "execution_count": 53
        }
      ]
    },
    {
      "cell_type": "code",
      "source": [
        "sales[:-1]"
      ],
      "metadata": {
        "colab": {
          "base_uri": "https://localhost:8080/"
        },
        "id": "662YUMZjACYE",
        "outputId": "07bd15ee-53da-4b85-b810-f3c3c31cf9e6"
      },
      "execution_count": 54,
      "outputs": [
        {
          "output_type": "execute_result",
          "data": {
            "text/plain": [
              "[200, 652, 412]"
            ]
          },
          "metadata": {},
          "execution_count": 54
        }
      ]
    },
    {
      "cell_type": "code",
      "source": [
        "production[:-1]"
      ],
      "metadata": {
        "colab": {
          "base_uri": "https://localhost:8080/"
        },
        "id": "WuGoGQjmAkra",
        "outputId": "aeb55fb2-58bf-45a6-b125-8ed746a4d957"
      },
      "execution_count": 55,
      "outputs": [
        {
          "output_type": "execute_result",
          "data": {
            "text/plain": [
              "[16, 10, 500]"
            ]
          },
          "metadata": {},
          "execution_count": 55
        }
      ]
    },
    {
      "cell_type": "code",
      "source": [
        "production.remove(production[-1])\n",
        "production\n"
      ],
      "metadata": {
        "colab": {
          "base_uri": "https://localhost:8080/"
        },
        "id": "4wd_UZyaAv16",
        "outputId": "e23db538-45fd-4010-834a-9ab0cf18fd3c"
      },
      "execution_count": 56,
      "outputs": [
        {
          "output_type": "execute_result",
          "data": {
            "text/plain": [
              "[16, 10, 500]"
            ]
          },
          "metadata": {},
          "execution_count": 56
        }
      ]
    },
    {
      "cell_type": "code",
      "source": [
        "x=[10,30,50,60,90,100]\n",
        "x[-1]"
      ],
      "metadata": {
        "colab": {
          "base_uri": "https://localhost:8080/"
        },
        "id": "pQZ0T-OaA7_6",
        "outputId": "87e03e7d-bc0f-4354-af56-44a6c16601d4"
      },
      "execution_count": 57,
      "outputs": [
        {
          "output_type": "execute_result",
          "data": {
            "text/plain": [
              "100"
            ]
          },
          "metadata": {},
          "execution_count": 57
        }
      ]
    },
    {
      "cell_type": "code",
      "source": [
        "x[-2]"
      ],
      "metadata": {
        "colab": {
          "base_uri": "https://localhost:8080/"
        },
        "id": "y2QC3danBx3F",
        "outputId": "29a3c27e-fef9-4e92-f3ab-179b04f8f0ab"
      },
      "execution_count": 58,
      "outputs": [
        {
          "output_type": "execute_result",
          "data": {
            "text/plain": [
              "90"
            ]
          },
          "metadata": {},
          "execution_count": 58
        }
      ]
    },
    {
      "cell_type": "code",
      "source": [
        "x[-4:-1]"
      ],
      "metadata": {
        "colab": {
          "base_uri": "https://localhost:8080/"
        },
        "id": "8qn6O8LhB-0V",
        "outputId": "f2d11ad7-d3d5-4b6c-b610-4c20f1516b3c"
      },
      "execution_count": 59,
      "outputs": [
        {
          "output_type": "execute_result",
          "data": {
            "text/plain": [
              "[50, 60, 90]"
            ]
          },
          "metadata": {},
          "execution_count": 59
        }
      ]
    },
    {
      "cell_type": "code",
      "source": [
        "x.remove(x[-1])\n",
        "x"
      ],
      "metadata": {
        "colab": {
          "base_uri": "https://localhost:8080/"
        },
        "id": "3IJ8hmneCHNw",
        "outputId": "11666b4f-6ac3-4b2e-f6b2-fd3e1ce62d06"
      },
      "execution_count": 60,
      "outputs": [
        {
          "output_type": "execute_result",
          "data": {
            "text/plain": [
              "[10, 30, 50, 60, 90]"
            ]
          },
          "metadata": {},
          "execution_count": 60
        }
      ]
    },
    {
      "cell_type": "code",
      "source": [
        "y=x[-4:-1]"
      ],
      "metadata": {
        "id": "HIGqmcDXCasP"
      },
      "execution_count": 61,
      "outputs": []
    },
    {
      "cell_type": "code",
      "source": [
        "y"
      ],
      "metadata": {
        "colab": {
          "base_uri": "https://localhost:8080/"
        },
        "id": "lkGPRlvrC_td",
        "outputId": "f5d80adf-cfea-4b76-a32e-d77698b2c6f5"
      },
      "execution_count": 62,
      "outputs": [
        {
          "output_type": "execute_result",
          "data": {
            "text/plain": [
              "[30, 50, 60]"
            ]
          },
          "metadata": {},
          "execution_count": 62
        }
      ]
    },
    {
      "cell_type": "code",
      "source": [
        "print(x,y)"
      ],
      "metadata": {
        "colab": {
          "base_uri": "https://localhost:8080/"
        },
        "id": "GeyPcq78DARd",
        "outputId": "268bf311-7afb-4d7c-86f3-5d5549edc7eb"
      },
      "execution_count": 63,
      "outputs": [
        {
          "output_type": "stream",
          "name": "stdout",
          "text": [
            "[10, 30, 50, 60, 90] [30, 50, 60]\n"
          ]
        }
      ]
    },
    {
      "cell_type": "code",
      "source": [
        "production[1:4]"
      ],
      "metadata": {
        "colab": {
          "base_uri": "https://localhost:8080/"
        },
        "id": "M4pCVnQgDFr4",
        "outputId": "70c9fa60-56d4-4001-e4b8-cf9dda9f429c"
      },
      "execution_count": 64,
      "outputs": [
        {
          "output_type": "execute_result",
          "data": {
            "text/plain": [
              "[10, 500]"
            ]
          },
          "metadata": {},
          "execution_count": 64
        }
      ]
    },
    {
      "cell_type": "code",
      "source": [],
      "metadata": {
        "id": "g0kKwz7CDXsh"
      },
      "execution_count": null,
      "outputs": []
    }
  ]
}